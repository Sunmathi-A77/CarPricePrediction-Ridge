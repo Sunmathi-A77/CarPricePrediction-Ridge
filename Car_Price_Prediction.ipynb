{
 "cells": [
  {
   "cell_type": "code",
   "execution_count": null,
   "id": "edd7055e",
   "metadata": {},
   "outputs": [],
   "source": [
    "import pandas as pd \n",
    "import numpy as np \n",
    "import matplotlib.pyplot as plt\n",
    "import seaborn as sns\n",
    "from sklearn.model_selection import train_test_split\n",
    "from sklearn.preprocessing import StandardScaler\n",
    "from sklearn.linear_model import LinearRegression\n",
    "from sklearn.linear_model import RidgeCV\n",
    "from sklearn.metrics import mean_squared_error, r2_score"
   ]
  },
  {
   "cell_type": "markdown",
   "id": "00102094",
   "metadata": {},
   "source": [
    "Basic data Analysis"
   ]
  },
  {
   "cell_type": "code",
   "execution_count": null,
   "id": "964fb2ec",
   "metadata": {},
   "outputs": [],
   "source": [
    "df = pd.read_csv(\"cars_ridge.csv\")\n",
    "df.head()"
   ]
  },
  {
   "cell_type": "code",
   "execution_count": null,
   "id": "386ffa01",
   "metadata": {},
   "outputs": [],
   "source": [
    "df.shape"
   ]
  },
  {
   "cell_type": "code",
   "execution_count": null,
   "id": "12a3e04f",
   "metadata": {},
   "outputs": [],
   "source": [
    "df.dtypes"
   ]
  },
  {
   "cell_type": "code",
   "execution_count": null,
   "id": "0848fe78",
   "metadata": {},
   "outputs": [],
   "source": [
    "df.isnull().sum()"
   ]
  },
  {
   "cell_type": "code",
   "execution_count": null,
   "id": "57a269a3",
   "metadata": {},
   "outputs": [],
   "source": [
    "df.duplicated().sum()"
   ]
  },
  {
   "cell_type": "markdown",
   "id": "12f37070",
   "metadata": {},
   "source": [
    "Exploratory Data Analysis (EDA)"
   ]
  },
  {
   "cell_type": "code",
   "execution_count": null,
   "id": "c6325290",
   "metadata": {},
   "outputs": [],
   "source": [
    "df.info()"
   ]
  },
  {
   "cell_type": "code",
   "execution_count": null,
   "id": "b8d0a4b1",
   "metadata": {},
   "outputs": [],
   "source": [
    "df.describe()"
   ]
  },
  {
   "cell_type": "code",
   "execution_count": null,
   "id": "f24e2aca",
   "metadata": {},
   "outputs": [],
   "source": [
    "df.columns"
   ]
  },
  {
   "cell_type": "code",
   "execution_count": null,
   "id": "f84e5d46",
   "metadata": {},
   "outputs": [],
   "source": [
    "numeric_cols = ['mileage', 'engine_size', 'horsepower', 'torque', 'doors', 'airbags', 'weight', 'fuel_efficiency', 'brand_score', 'luxury_index', 'price_k']\n",
    "skewness = df[numeric_cols].skew()\n",
    "print(\"Skewness of numeric columns:\\n\", skewness)\n",
    "\n",
    "df[numeric_cols].hist(figsize=(12,10), color='skyblue')\n",
    "plt.show()"
   ]
  },
  {
   "cell_type": "code",
   "execution_count": null,
   "id": "6b14a90c",
   "metadata": {},
   "outputs": [],
   "source": [
    "numeric_cols = ['mileage', 'engine_size', 'horsepower', 'torque', 'doors', 'airbags', 'weight', 'fuel_efficiency', 'brand_score', 'luxury_index', 'price_k']\n",
    "cor = df[numeric_cols].corr()\n",
    "plt.figure(figsize=(6,4))\n",
    "sns.heatmap(cor, annot=True, fmt='.2f', cmap='coolwarm', cbar=True)\n",
    "plt.title(\"Correlation Heatmap\")\n",
    "plt.show()"
   ]
  },
  {
   "cell_type": "markdown",
   "id": "39ac16f8",
   "metadata": {},
   "source": [
    "Data Preprocessing"
   ]
  },
  {
   "cell_type": "code",
   "execution_count": null,
   "id": "ab09387c",
   "metadata": {},
   "outputs": [],
   "source": [
    "df['torque'] = np.log1p(df['torque'])\n",
    "print(\"Skewness after log transform:\")\n",
    "print(df['torque'].skew())\n",
    "\n",
    "df['torque'].hist(figsize=(6,3), color='skyblue', bins=20)\n",
    "plt.suptitle(\"Histograms of Log-Transformed Columns\", fontsize=16)\n",
    "plt.tight_layout()\n",
    "plt.show()"
   ]
  },
  {
   "cell_type": "code",
   "execution_count": null,
   "id": "f22d023a",
   "metadata": {},
   "outputs": [],
   "source": [
    "numeric_cols = ['mileage', 'engine_size', 'horsepower', 'torque', 'doors', 'airbags', 'weight', 'fuel_efficiency', 'brand_score', 'luxury_index', 'price_k']\n",
    "for col in numeric_cols:\n",
    "    Q1 = df[col].quantile(0.25)\n",
    "    Q3 = df[col].quantile(0.75)\n",
    "    IQR = Q3 - Q1\n",
    "    lower = Q1 - 1.5 * IQR\n",
    "    upper = Q3 + 1.5 * IQR\n",
    "    outliers_count = ((df[col] < lower) | (df[col] > upper)).sum()\n",
    "    print(f\"{col}: {outliers_count} outliers\")\n",
    "\n",
    "plt.figure(figsize=(8,4))\n",
    "df.boxplot(column=numeric_cols, grid=False)\n",
    "plt.xticks(rotation=90)\n",
    "plt.title(\"Boxplots of Numeric Columns\")\n",
    "plt.show()"
   ]
  },
  {
   "cell_type": "code",
   "execution_count": null,
   "id": "a0807af6",
   "metadata": {},
   "outputs": [],
   "source": [
    "discrete_cols = ['doors']\n",
    "continuous_cols = ['weight', 'fuel_efficiency']\n",
    "\n",
    "# Handle discrete columns (replace outliers with mode)\n",
    "for col in discrete_cols:\n",
    "    mode_val = df[col].mode()[0]\n",
    "    Q1, Q3 = df[col].quantile([0.25, 0.75])\n",
    "    IQR = Q3 - Q1\n",
    "    df[col] = df[col].apply(lambda x: mode_val if x < Q1 - 1.5*IQR or x > Q3 + 1.5*IQR else x)\n",
    "\n",
    "# Handle continuous columns (cap outliers)\n",
    "for col in continuous_cols:\n",
    "    Q1, Q3 = df[col].quantile([0.25, 0.75])\n",
    "    IQR = Q3 - Q1\n",
    "    df[col] = df[col].clip(lower=Q1 - 1.5*IQR, upper=Q3 + 1.5*IQR)"
   ]
  },
  {
   "cell_type": "code",
   "execution_count": null,
   "id": "1998806f",
   "metadata": {},
   "outputs": [],
   "source": [
    "for col in discrete_cols + continuous_cols:\n",
    "    Q1 = df[col].quantile(0.25)\n",
    "    Q3 = df[col].quantile(0.75)\n",
    "    IQR = Q3 - Q1\n",
    "    lower = Q1 - 1.5 * IQR\n",
    "    upper = Q3 + 1.5 * IQR\n",
    "    outliers = df[(df[col] < lower) | (df[col] > upper)]\n",
    "    print(f\"{col}: {len(outliers)} outliers remaining\")"
   ]
  },
  {
   "cell_type": "code",
   "execution_count": null,
   "id": "a986742d",
   "metadata": {},
   "outputs": [],
   "source": [
    "df.head()"
   ]
  },
  {
   "cell_type": "markdown",
   "id": "0a0aa682",
   "metadata": {},
   "source": [
    "Feature Selection"
   ]
  },
  {
   "cell_type": "code",
   "execution_count": null,
   "id": "ea0ae4e8",
   "metadata": {},
   "outputs": [],
   "source": [
    "X =  df[['mileage', 'engine_size', 'horsepower', 'torque', 'doors','airbags', 'weight', 'fuel_efficiency', 'brand_score', 'luxury_index']]\n",
    "y = df['price_k']"
   ]
  },
  {
   "cell_type": "code",
   "execution_count": null,
   "id": "9bbd5594",
   "metadata": {},
   "outputs": [],
   "source": [
    "print(\"Selected Features:\")\n",
    "X.columns.tolist()"
   ]
  },
  {
   "cell_type": "code",
   "execution_count": null,
   "id": "3b66b394",
   "metadata": {},
   "outputs": [],
   "source": [
    "print(\"Target Variable: price_k\")"
   ]
  },
  {
   "cell_type": "markdown",
   "id": "b3ffc33e",
   "metadata": {},
   "source": [
    "Train-Test Split"
   ]
  },
  {
   "cell_type": "code",
   "execution_count": null,
   "id": "9bb6bda0",
   "metadata": {},
   "outputs": [],
   "source": [
    "X_train, X_test, y_train, y_test = train_test_split(X, y, test_size=0.2, random_state=42)\n",
    "print(\"Training and Testing Data Shapes:\")\n",
    "print(\"X_train:\", X_train.shape)\n",
    "print(\"X_test:\", X_test.shape)"
   ]
  },
  {
   "cell_type": "markdown",
   "id": "ecda3683",
   "metadata": {},
   "source": [
    "Scaling features"
   ]
  },
  {
   "cell_type": "code",
   "execution_count": null,
   "id": "c51dc52c",
   "metadata": {},
   "outputs": [],
   "source": [
    "scaler = StandardScaler()\n",
    "X_train = scaler.fit_transform(X_train)\n",
    "X_test = scaler.transform(X_test)"
   ]
  },
  {
   "cell_type": "markdown",
   "id": "8062f10a",
   "metadata": {},
   "source": [
    "Fit Linear Regression"
   ]
  },
  {
   "cell_type": "code",
   "execution_count": null,
   "id": "a2d85164",
   "metadata": {},
   "outputs": [],
   "source": [
    "lr = LinearRegression()\n",
    "lr.fit(X_train, y_train)\n",
    "y_pred_lr = lr.predict(X_train)"
   ]
  },
  {
   "cell_type": "markdown",
   "id": "0076f248",
   "metadata": {},
   "source": [
    "Fit RidgeCV"
   ]
  },
  {
   "cell_type": "code",
   "execution_count": null,
   "id": "ea3041f8",
   "metadata": {},
   "outputs": [],
   "source": [
    "alphas = np.logspace(-3, 3, 50)\n",
    "ridge_cv = RidgeCV(alphas=alphas, cv=5, scoring='r2')\n",
    "ridge_cv.fit(X_train, y_train)\n",
    "y_pred = ridge_cv.predict(X_test)"
   ]
  },
  {
   "cell_type": "markdown",
   "id": "e4b28bb7",
   "metadata": {},
   "source": [
    "Evaluate the Model"
   ]
  },
  {
   "cell_type": "code",
   "execution_count": null,
   "id": "18683f1b",
   "metadata": {},
   "outputs": [],
   "source": [
    "print(\"Linear Regression Results:\")\n",
    "print(\"Intercept:\", lr.intercept_)\n",
    "print(\"Coefficients:\", lr.coef_)\n",
    "print(\"R² Score:\", r2_score(y_test, y_pred))\n",
    "print(\"MSE:\", mean_squared_error(y_test, y_pred))\n",
    "print(\"RMSE:\", np.sqrt(mean_squared_error(y_test, y_pred)))"
   ]
  },
  {
   "cell_type": "code",
   "execution_count": null,
   "id": "daaa7ccd",
   "metadata": {},
   "outputs": [],
   "source": [
    "print(\"RidgeCV Results:\")\n",
    "print(\"Best Alpha:\", ridge_cv.alpha_)\n",
    "print(\"R²:\", r2_score(y_test, y_pred))\n",
    "print(\"MSE:\", mean_squared_error(y_test, y_pred))\n",
    "print(\"RMSE:\", np.sqrt(mean_squared_error(y_test, y_pred)))"
   ]
  }
 ],
 "metadata": {
  "kernelspec": {
   "display_name": "Python 3",
   "language": "python",
   "name": "python3"
  },
  "language_info": {
   "codemirror_mode": {
    "name": "ipython",
    "version": 3
   },
   "file_extension": ".py",
   "mimetype": "text/x-python",
   "name": "python",
   "nbconvert_exporter": "python",
   "pygments_lexer": "ipython3",
   "version": "3.10.18"
  }
 },
 "nbformat": 4,
 "nbformat_minor": 5
}
